{
 "cells": [
  {
   "cell_type": "code",
   "execution_count": 1,
   "metadata": {},
   "outputs": [],
   "source": [
    "import pandas as pd\n",
    "import requests"
   ]
  },
  {
   "cell_type": "code",
   "execution_count": 3,
   "metadata": {},
   "outputs": [],
   "source": [
    "donors2008_to_load = \"Resources/donors2008.csv\""
   ]
  },
  {
   "cell_type": "code",
   "execution_count": 4,
   "metadata": {},
   "outputs": [
    {
     "data": {
      "text/html": [
       "<div>\n",
       "<style scoped>\n",
       "    .dataframe tbody tr th:only-of-type {\n",
       "        vertical-align: middle;\n",
       "    }\n",
       "\n",
       "    .dataframe tbody tr th {\n",
       "        vertical-align: top;\n",
       "    }\n",
       "\n",
       "    .dataframe thead th {\n",
       "        text-align: right;\n",
       "    }\n",
       "</style>\n",
       "<table border=\"1\" class=\"dataframe\">\n",
       "  <thead>\n",
       "    <tr style=\"text-align: right;\">\n",
       "      <th></th>\n",
       "      <th>LastName</th>\n",
       "      <th>FirstName</th>\n",
       "      <th>Employer</th>\n",
       "      <th>City</th>\n",
       "      <th>State</th>\n",
       "      <th>Zip</th>\n",
       "      <th>Amount</th>\n",
       "      <th>FIELD8</th>\n",
       "    </tr>\n",
       "  </thead>\n",
       "  <tbody>\n",
       "    <tr>\n",
       "      <th>0</th>\n",
       "      <td>Aaron</td>\n",
       "      <td>Eugene</td>\n",
       "      <td>State Department</td>\n",
       "      <td>Dulles</td>\n",
       "      <td>VA</td>\n",
       "      <td>20189</td>\n",
       "      <td>500.0</td>\n",
       "      <td>NaN</td>\n",
       "    </tr>\n",
       "    <tr>\n",
       "      <th>1</th>\n",
       "      <td>Abadi</td>\n",
       "      <td>Barbara</td>\n",
       "      <td>Abadi &amp; Co.</td>\n",
       "      <td>New York</td>\n",
       "      <td>NY</td>\n",
       "      <td>10021</td>\n",
       "      <td>200.0</td>\n",
       "      <td>NaN</td>\n",
       "    </tr>\n",
       "    <tr>\n",
       "      <th>2</th>\n",
       "      <td>Adamany</td>\n",
       "      <td>Anthony</td>\n",
       "      <td>Retired</td>\n",
       "      <td>Rockford</td>\n",
       "      <td>IL</td>\n",
       "      <td>61103</td>\n",
       "      <td>500.0</td>\n",
       "      <td>NaN</td>\n",
       "    </tr>\n",
       "    <tr>\n",
       "      <th>3</th>\n",
       "      <td>Adams</td>\n",
       "      <td>Lorraine</td>\n",
       "      <td>Self</td>\n",
       "      <td>New York</td>\n",
       "      <td>NY</td>\n",
       "      <td>10026</td>\n",
       "      <td>200.0</td>\n",
       "      <td>NaN</td>\n",
       "    </tr>\n",
       "    <tr>\n",
       "      <th>4</th>\n",
       "      <td>Adams</td>\n",
       "      <td>Marion</td>\n",
       "      <td>None</td>\n",
       "      <td>Exeter</td>\n",
       "      <td>NH</td>\n",
       "      <td>03833</td>\n",
       "      <td>100.0</td>\n",
       "      <td>NaN</td>\n",
       "    </tr>\n",
       "  </tbody>\n",
       "</table>\n",
       "</div>"
      ],
      "text/plain": [
       "  LastName FirstName          Employer      City State    Zip  Amount  FIELD8\n",
       "0    Aaron    Eugene  State Department    Dulles    VA  20189   500.0     NaN\n",
       "1    Abadi   Barbara       Abadi & Co.  New York    NY  10021   200.0     NaN\n",
       "2  Adamany   Anthony           Retired  Rockford    IL  61103   500.0     NaN\n",
       "3    Adams  Lorraine              Self  New York    NY  10026   200.0     NaN\n",
       "4    Adams    Marion              None    Exeter    NH  03833   100.0     NaN"
      ]
     },
     "execution_count": 4,
     "metadata": {},
     "output_type": "execute_result"
    }
   ],
   "source": [
    "donors2008_df = pd.read_csv(\"Resources/donors2008.csv\")\n",
    "donors2008_df.head()"
   ]
  },
  {
   "cell_type": "code",
   "execution_count": 10,
   "metadata": {},
   "outputs": [
    {
     "data": {
      "text/plain": [
       "State\n",
       "AE      1\n",
       "AK      6\n",
       "AL      8\n",
       "AP      1\n",
       "AR      5\n",
       "AZ     25\n",
       "CA    366\n",
       "CO     40\n",
       "CT     35\n",
       "DC     52\n",
       "DE      5\n",
       "FL     78\n",
       "GA     26\n",
       "HI     11\n",
       "IA      5\n",
       "ID      6\n",
       "IL    104\n",
       "IN      8\n",
       "KS      9\n",
       "KY     10\n",
       "LA      6\n",
       "MA     70\n",
       "MD     85\n",
       "ME      9\n",
       "MI     27\n",
       "MN     25\n",
       "MO     18\n",
       "MS      3\n",
       "MT      6\n",
       "NC     40\n",
       "NE      3\n",
       "NH      8\n",
       "NJ     45\n",
       "NM     23\n",
       "NV     15\n",
       "NY    199\n",
       "OH     16\n",
       "OK      6\n",
       "OR     19\n",
       "PA     45\n",
       "QC      1\n",
       "RI      9\n",
       "SC     10\n",
       "TN     14\n",
       "TX     88\n",
       "UT      2\n",
       "VA    101\n",
       "VI      2\n",
       "VT      9\n",
       "WA     54\n",
       "WI     12\n",
       "WV      3\n",
       "WY      2\n",
       "Name: Amount, dtype: int64"
      ]
     },
     "execution_count": 10,
     "metadata": {},
     "output_type": "execute_result"
    }
   ],
   "source": [
    "donnors2008_state_count = donors2008_df.groupby([\"State\"]).count()[\"Amount\"]\n",
    "donnors2008_state_count"
   ]
  },
  {
   "cell_type": "code",
   "execution_count": 11,
   "metadata": {},
   "outputs": [
    {
     "data": {
      "text/plain": [
       "State\n",
       "AE       100.00\n",
       "AK      1050.00\n",
       "AL      1700.00\n",
       "AP       200.00\n",
       "AR      1750.00\n",
       "AZ      5150.00\n",
       "CA    250796.00\n",
       "CO     34050.00\n",
       "CT     28900.00\n",
       "DC     33650.00\n",
       "DE       950.00\n",
       "FL     55330.00\n",
       "GA     21900.00\n",
       "HI      2150.00\n",
       "IA      3000.00\n",
       "ID      2050.00\n",
       "IL    115910.00\n",
       "IN      1800.00\n",
       "KS      2550.00\n",
       "KY      7350.00\n",
       "LA       950.00\n",
       "MA     52550.00\n",
       "MD     69685.00\n",
       "ME      1900.00\n",
       "MI      6525.00\n",
       "MN     17425.00\n",
       "MO      8350.00\n",
       "MS      3625.00\n",
       "MT      1200.00\n",
       "NC     17625.00\n",
       "NE       550.00\n",
       "NH      2950.00\n",
       "NJ     12425.00\n",
       "NM      6875.00\n",
       "NV      5900.00\n",
       "NY    181255.00\n",
       "OH      8025.00\n",
       "OK      1200.00\n",
       "OR      6100.00\n",
       "PA     40354.00\n",
       "QC       250.00\n",
       "RI      6300.00\n",
       "SC      2875.00\n",
       "TN      3600.00\n",
       "TX     42697.00\n",
       "UT       400.00\n",
       "VA     70810.44\n",
       "VI       450.00\n",
       "VT      3150.00\n",
       "WA     21575.00\n",
       "WI      2225.00\n",
       "WV       550.00\n",
       "WY       250.00\n",
       "Name: Amount, dtype: float64"
      ]
     },
     "execution_count": 11,
     "metadata": {},
     "output_type": "execute_result"
    }
   ],
   "source": [
    "donnors2008_state_sum = donors2008_df.groupby([\"State\"]).sum()[\"Amount\"]\n",
    "donnors2008_state_sum"
   ]
  },
  {
   "cell_type": "code",
   "execution_count": 12,
   "metadata": {},
   "outputs": [
    {
     "data": {
      "text/plain": [
       "State\n",
       "AE     100.000000\n",
       "AK     175.000000\n",
       "AL     212.500000\n",
       "AP     200.000000\n",
       "AR     350.000000\n",
       "AZ     206.000000\n",
       "CA     685.234973\n",
       "CO     851.250000\n",
       "CT     825.714286\n",
       "DC     647.115385\n",
       "DE     190.000000\n",
       "FL     709.358974\n",
       "GA     842.307692\n",
       "HI     195.454545\n",
       "IA     600.000000\n",
       "ID     341.666667\n",
       "IL    1114.519231\n",
       "IN     225.000000\n",
       "KS     283.333333\n",
       "KY     735.000000\n",
       "LA     158.333333\n",
       "MA     750.714286\n",
       "MD     819.823529\n",
       "ME     211.111111\n",
       "MI     241.666667\n",
       "MN     697.000000\n",
       "MO     463.888889\n",
       "MS    1208.333333\n",
       "MT     200.000000\n",
       "NC     440.625000\n",
       "NE     183.333333\n",
       "NH     368.750000\n",
       "NJ     276.111111\n",
       "NM     298.913043\n",
       "NV     393.333333\n",
       "NY     910.829146\n",
       "OH     501.562500\n",
       "OK     200.000000\n",
       "OR     321.052632\n",
       "PA     896.755556\n",
       "QC     250.000000\n",
       "RI     700.000000\n",
       "SC     287.500000\n",
       "TN     257.142857\n",
       "TX     485.193182\n",
       "UT     200.000000\n",
       "VA     701.093465\n",
       "VI     225.000000\n",
       "VT     350.000000\n",
       "WA     399.537037\n",
       "WI     185.416667\n",
       "WV     183.333333\n",
       "WY     125.000000\n",
       "Name: Amount, dtype: float64"
      ]
     },
     "execution_count": 12,
     "metadata": {},
     "output_type": "execute_result"
    }
   ],
   "source": [
    "donnors2008_State_avg= donnors2008_state_sum/ donnors2008_count\n",
    "donnors2008_State_avg"
   ]
  },
  {
   "cell_type": "code",
   "execution_count": 20,
   "metadata": {},
   "outputs": [],
   "source": [
    "import matplotlib as plt"
   ]
  },
  {
   "cell_type": "code",
   "execution_count": 19,
   "metadata": {},
   "outputs": [],
   "source": [
    "avg_rain_state_to_load = \"avg_rain_state.csv\"\n"
   ]
  },
  {
   "cell_type": "code",
   "execution_count": 21,
   "metadata": {},
   "outputs": [
    {
     "data": {
      "text/html": [
       "<div>\n",
       "<style scoped>\n",
       "    .dataframe tbody tr th:only-of-type {\n",
       "        vertical-align: middle;\n",
       "    }\n",
       "\n",
       "    .dataframe tbody tr th {\n",
       "        vertical-align: top;\n",
       "    }\n",
       "\n",
       "    .dataframe thead th {\n",
       "        text-align: right;\n",
       "    }\n",
       "</style>\n",
       "<table border=\"1\" class=\"dataframe\">\n",
       "  <thead>\n",
       "    <tr style=\"text-align: right;\">\n",
       "      <th></th>\n",
       "      <th>State</th>\n",
       "      <th>Inches</th>\n",
       "      <th>Milli­metres</th>\n",
       "      <th>Rank</th>\n",
       "    </tr>\n",
       "  </thead>\n",
       "  <tbody>\n",
       "    <tr>\n",
       "      <th>0</th>\n",
       "      <td>Alabama</td>\n",
       "      <td>58.3</td>\n",
       "      <td>1480</td>\n",
       "      <td>4</td>\n",
       "    </tr>\n",
       "    <tr>\n",
       "      <th>1</th>\n",
       "      <td>Alaska</td>\n",
       "      <td>22.5</td>\n",
       "      <td>572</td>\n",
       "      <td>39</td>\n",
       "    </tr>\n",
       "    <tr>\n",
       "      <th>2</th>\n",
       "      <td>Arizona</td>\n",
       "      <td>13.6</td>\n",
       "      <td>345</td>\n",
       "      <td>47</td>\n",
       "    </tr>\n",
       "    <tr>\n",
       "      <th>3</th>\n",
       "      <td>Arkansas</td>\n",
       "      <td>50.6</td>\n",
       "      <td>1284</td>\n",
       "      <td>8</td>\n",
       "    </tr>\n",
       "    <tr>\n",
       "      <th>4</th>\n",
       "      <td>California</td>\n",
       "      <td>22.2</td>\n",
       "      <td>563</td>\n",
       "      <td>40</td>\n",
       "    </tr>\n",
       "  </tbody>\n",
       "</table>\n",
       "</div>"
      ],
      "text/plain": [
       "        State  Inches  Milli­metres  Rank\n",
       "0     Alabama    58.3          1480     4\n",
       "1      Alaska    22.5           572    39\n",
       "2     Arizona    13.6           345    47\n",
       "3    Arkansas    50.6          1284     8\n",
       "4  California    22.2           563    40"
      ]
     },
     "execution_count": 21,
     "metadata": {},
     "output_type": "execute_result"
    }
   ],
   "source": [
    "avg_rain_state_df = pd.read_csv(\"Resources/avg_rain_state.csv\")\n",
    "avg_rain_state_df.head()"
   ]
  },
  {
   "cell_type": "code",
   "execution_count": 23,
   "metadata": {},
   "outputs": [
    {
     "data": {
      "text/plain": [
       "Index(['State', 'Inches', 'Milli­metres', 'Rank'], dtype='object')"
      ]
     },
     "execution_count": 23,
     "metadata": {},
     "output_type": "execute_result"
    }
   ],
   "source": [
    "avg_rain_state_df.keys()\n"
   ]
  },
  {
   "cell_type": "code",
   "execution_count": 31,
   "metadata": {},
   "outputs": [
    {
     "data": {
      "text/plain": [
       "0    28.9\n",
       "1    42.2\n",
       "2    50.3\n",
       "dtype: float64"
      ]
     },
     "execution_count": 31,
     "metadata": {},
     "output_type": "execute_result"
    }
   ],
   "source": [
    "avg_rain_state_df_total_sum= avg_rain_state_df['Inches'].mode()\n",
    "avg_rain_state_df_total_sum"
   ]
  },
  {
   "cell_type": "code",
   "execution_count": null,
   "metadata": {},
   "outputs": [],
   "source": [
    "import "
   ]
  }
 ],
 "metadata": {
  "kernelspec": {
   "display_name": "PythonData",
   "language": "python",
   "name": "pythondata"
  },
  "language_info": {
   "codemirror_mode": {
    "name": "ipython",
    "version": 3
   },
   "file_extension": ".py",
   "mimetype": "text/x-python",
   "name": "python",
   "nbconvert_exporter": "python",
   "pygments_lexer": "ipython3",
   "version": "3.8.1"
  }
 },
 "nbformat": 4,
 "nbformat_minor": 4
}
